{
 "cells": [
  {
   "cell_type": "markdown",
   "metadata": {},
   "source": [
    "CS249 -- Spring 2016 -- D.S. Parker &copy; 2016"
   ]
  },
  {
   "cell_type": "markdown",
   "metadata": {},
   "source": [
    "# HW2:  The Distribution of Movie Ratings"
   ]
  },
  {
   "cell_type": "markdown",
   "metadata": {},
   "source": [
    "Movie ratings are numeric scores summarizing the quality of a movie.\n",
    "In this assignment, we study two sources of ratings:\n",
    "<ul><li>\n",
    "up-to-date, recently tweeted movie ratings (from MovieTweetings)\n",
    "</li><li>\n",
    "historical movie rating averages (from IMDb).\n",
    "</li></ul>\n",
    "\n",
    "Ratings from both of these sources are numeric values, ranging from 0 to 10.\n",
    "\n",
    "Perhaps remarkably, the distribution for the two kinds of ratings look the same.\n",
    "The goal of this assignment is to characterize the movie ratings distribution.\n",
    "\n",
    "<blockquote>\n",
    "<i style=\"color:blue;\">\n",
    "Your program is supposed to produce an output file answering four sets of questions\n",
    "(10 questions in all):\n",
    "<ul><li>\n",
    "characterizing the distribution of live MovieTweetings movie ratings\n",
    "</li><li>\n",
    "studying the differences between average and median MovieTweetings ratings.\n",
    "</li><li>\n",
    "characterizing the distribution of archival IMDb movie ratings\n",
    "</li><li>\n",
    "analyzing skewness of the Gamma distribution.\n",
    "</li></ul>\n",
    "</i>\n",
    "</blockquote>\n",
    "The details of these questions are laid out in the notebook.\n",
    "And as it explains, your program should produce a CSV file <tt>HW2_output.csv</tt> answering the questions.\n",
    "A correct output file could look like this:\n",
    "<pre>\n",
    "     lognormal,5.55555,1.11111\n",
    "     skewness,2.22222,\n",
    "     kurtosis,3.33333,\n",
    "     Batman: The Dark Knight,3.33333,8.88888\n",
    "     Batman v Superman: Dawn of Justice,9.11111,9.55555\n",
    "     lognormal,5.22222,1.44444\n",
    "     skewness,2.55555,\n",
    "     kurtosis,3.44444,\n",
    "     1,,\n",
    "     False,,\n",
    "</pre>\n",
    "This is just an example of the format of an output file; your output file will be different.\n",
    "\n",
    "\n",
    "This file characterizes the distribution of ratings as a <i>lognormal distribution</i>.\n",
    "This is not correct: the ratings distribution clearly cannot be lognormal,\n",
    "because it is <i>negatively skewed</i> (it leans to the right)\n",
    "whereas the lognormal distribution is <i>positively skewed</i> (it leans to the left).\n",
    "\n",
    "Another distribution is needed.\n",
    "The notebook suggests two possible distributions, but you job is to identify one,\n",
    "and obtain the best fit (i.e., maximal likelihood parameters) for the data.\n",
    "\n",
    "\n",
    "The notebook does not give as much guidance as the earlier assignment notebooks.\n",
    "However, this is also a short assignment.\n",
    "\n",
    "To complete this assignment, please upload two files to CCLE:\n",
    "<br/>\n",
    "<ul><li>\n",
    "your output CSV file <tt>HW2_output.csv</tt>\n",
    "</li><li>\n",
    "your notebook file <tt>HW2_Movie_Ratings.ipynb</tt> (to show your work).\n",
    "</li></ul>\n",
    "<br/>\n",
    "The notebook should have the commands you used to produce the output file.\n",
    "All assignment grading in this course will be automated, so please assume that when uploading files.\n",
    "\n",
    "We will use Paul Eggert's <b>Late Policy</b>:\n",
    "The number of days late is $N=0$ for the first 24 hrs, $N=1$ for the next 24 hrs, etc.,\n",
    "and if you submit an assignment $H$ hours late, $2^{\\lfloor H/24\\rfloor}$ points are deducted."
   ]
  },
  {
   "cell_type": "markdown",
   "metadata": {},
   "source": [
    "# Part 1:  Live Movie Ratings -- extracted from Tweets\n",
    "\n",
    "## Live Movie Ratings are available at GitHub\n",
    "\n",
    "These ratings are updated automatically online by a process scanning current Tweets;\n",
    "see the <a href=\"https://github.com/sidooms/MovieTweetings\">Movie Tweetings</a> page of\n",
    "<a href=\"https://scholar.google.be/citations?user=owaD8qkAAAAJ&hl=en\">Simon Dooms</a>.\n",
    "The information in the tweets has been digested into three tables -- about movies, users, and ratings.\n",
    "(Up-to-date snapshots and archives are also available.)"
   ]
  },
  {
   "cell_type": "code",
   "execution_count": null,
   "metadata": {
    "collapsed": true
   },
   "outputs": [],
   "source": [
    "# bypass a problem with R reading of https connections\n",
    "remote.file = function(URL) {\n",
    "    temporaryFile <- tempfile()\n",
    "    download.file(URL,destfile=temporaryFile, method=\"curl\")\n",
    "    return( temporaryFile )\n",
    "}"
   ]
  },
  {
   "cell_type": "code",
   "execution_count": null,
   "metadata": {
    "collapsed": false
   },
   "outputs": [],
   "source": [
    "URL = \"https://raw.githubusercontent.com/sidooms/MovieTweetings/master/latest/ratings.dat\"\n",
    "\n",
    "Ratings = read.table( remote.file(URL), sep = \":\", header=FALSE )[,c(1,3,5,7)]\n",
    "colnames(Ratings) = c(\"UserID\", \"MovieID\", \"Rating\", \"TwitterID\")\n",
    "\n",
    "head(Ratings)\n",
    "\n",
    "# if your connection to github fails when retrieving this dataset, persist in trying"
   ]
  },
  {
   "cell_type": "code",
   "execution_count": null,
   "metadata": {
    "collapsed": false
   },
   "outputs": [],
   "source": [
    "dim(Ratings)  # not a tiny dataset"
   ]
  },
  {
   "cell_type": "markdown",
   "metadata": {},
   "source": [
    "## Exploration of the Live Ratings"
   ]
  },
  {
   "cell_type": "code",
   "execution_count": null,
   "metadata": {
    "collapsed": false
   },
   "outputs": [],
   "source": [
    "# Summary statistics\n",
    "\n",
    "summary( Ratings$Rating )"
   ]
  },
  {
   "cell_type": "code",
   "execution_count": null,
   "metadata": {
    "collapsed": false
   },
   "outputs": [],
   "source": [
    "# Count rating values with table()\n",
    "\n",
    "CountOfRatings = as.data.frame(table( Ratings$Rating, dnn=\"rating\" ), responseName=\"count\")\n",
    "CountOfRatings"
   ]
  },
  {
   "cell_type": "code",
   "execution_count": null,
   "metadata": {
    "collapsed": true
   },
   "outputs": [],
   "source": [
    "options( repr.plot.width=4, repr.plot.height=4 ) # control plot dimensions"
   ]
  },
  {
   "cell_type": "code",
   "execution_count": null,
   "metadata": {
    "collapsed": false
   },
   "outputs": [],
   "source": [
    "# Histogram of Rating values (integer values from 0 to 10)\n",
    "\n",
    "h = hist( Ratings$Rating, breaks = 0:11, col=\"cyan\" )  # save and plot the histogram\n",
    "\n",
    "mtext( sprintf(\"histogram of %d tweeted ratings\", length(Ratings$Rating)) )"
   ]
  },
  {
   "cell_type": "code",
   "execution_count": null,
   "metadata": {
    "collapsed": false
   },
   "outputs": [],
   "source": [
    "barplot( h$counts, names.arg=0:10, col=\"aquamarine\",\n",
    "        main=\"latest MovieTweetings rating values\" )"
   ]
  },
  {
   "cell_type": "code",
   "execution_count": null,
   "metadata": {
    "collapsed": false
   },
   "outputs": [],
   "source": [
    "hist( Ratings$Rating, probability=TRUE, col=\"palegreen\", breaks=0:11 )\n",
    "\n",
    "rating_avg = mean(Ratings$Rating)\n",
    "rating_sd  = sd(Ratings$Rating)\n",
    "\n",
    "curve( dnorm(x, mean=rating_avg, sd=rating_sd),\n",
    "      col=\"red\", add=TRUE )  #  add a curve with the normal MLE\n",
    "\n",
    "mtext(sprintf(\"Ratings with superimposed normal fit (mean %4.1f, sd %4.1f)\",\n",
    "              rating_avg, rating_sd), cex=0.65)"
   ]
  },
  {
   "cell_type": "markdown",
   "metadata": {},
   "source": [
    "# Problem 1: Find a distribution that fits the histogram of MovieTweetings Rating values"
   ]
  },
  {
   "cell_type": "markdown",
   "metadata": {
    "collapsed": true
   },
   "source": [
    "<p style=\"color:blue;\">\n",
    "<ul><li>\n",
    "<b>Question 1:</b>  <b>Give the name of a specific distribution (pdf), with maximum likelihood parameter values, that resembles the MovieTweetings Rating values (as closely as you can).</b>\n",
    "<br/><br/>\n",
    "To permit distributions like the Beta distribution to be considered,\n",
    "you can scale the rating values.\n",
    "For example, dividing the values by 10 puts them in the interval [0,1],\n",
    "as the Beta distribution requires.\n",
    "<br/><br/>\n",
    "</li><li>\n",
    "<b>Question 2:</b> determine the <a href=\"https://en.wikipedia.org/wiki/Skewness\"><b>skewness</b></a> of the MovieTweetings ratings.\n",
    "<br/><br/>\n",
    "</li><li>\n",
    "<b>Question 3:</b> determine the (excess) <a href=\"https://en.wikipedia.org/wiki/Kurtosis\"><b>kurtosis</b></a> of the MovieTweetings ratings.\n",
    "</li></ul>\n",
    "<br/><br/>\n",
    "The skewness and excess kurtosis values ought to be near zero\n",
    "if the data is normally distributed.\n",
    "Inspecting them is a simple check of whether the data follows a normal distribution.\n",
    "</p>"
   ]
  },
  {
   "cell_type": "markdown",
   "metadata": {},
   "source": [
    "## You can use the fitdistr() function in this assignment"
   ]
  },
  {
   "cell_type": "code",
   "execution_count": null,
   "metadata": {
    "collapsed": false
   },
   "outputs": [],
   "source": [
    "not.installed = function(package_name)  !is.element(package_name, installed.packages()[,1])\n",
    "if (not.installed(\"MASS\")) install.packages(\"MASS\")\n",
    "\n",
    "library(MASS)\n",
    "\n",
    "# example(fitdistr)  #  run examples showing use of the fitdistr() function"
   ]
  },
  {
   "cell_type": "code",
   "execution_count": null,
   "metadata": {
    "collapsed": false
   },
   "outputs": [],
   "source": [
    "# A start at analysis, which needs work:\n",
    "\n",
    "hist( Ratings$Rating, probability=TRUE, col=\"palegreen\", breaks=0:11 )\n",
    "\n",
    "theta = fitdistr( Ratings$Rating+1, \"lognormal\" )\n",
    "\n",
    "curve( dlnorm(x+0.5, meanlog=theta$estimate[1], sdlog=theta$estimate[2]),\n",
    "      col=\"red\", add=TRUE )  #  add a curve with the MLE fit for the lognormal density\n",
    "\n",
    "mtext( \"the lognormal distribution doesn't fit well\", col=\"red\" )\n",
    "mtext( sprintf(\"MLE parameters:  %5.2f, %5.2f\",\n",
    "               theta$estimate[1], theta$estimate[2]), side=1, col=\"blue\")"
   ]
  },
  {
   "cell_type": "markdown",
   "metadata": {},
   "source": [
    "## \"Trending\" Movies:  movies with more than 50 current ratings"
   ]
  },
  {
   "cell_type": "code",
   "execution_count": null,
   "metadata": {
    "collapsed": false
   },
   "outputs": [],
   "source": [
    "NumberOfRatings = data.frame(aggregate( Rating ~ MovieID, length, data=Ratings ))\n",
    "colnames(NumberOfRatings) = c(\"MovieID\", \"NumberOfRatings\")\n",
    "\n",
    "TrendingMovies = subset( NumberOfRatings, NumberOfRatings > 50 )\n",
    "\n",
    "head(TrendingMovies)"
   ]
  },
  {
   "cell_type": "code",
   "execution_count": null,
   "metadata": {
    "collapsed": false
   },
   "outputs": [],
   "source": [
    "nrow(TrendingMovies)"
   ]
  },
  {
   "cell_type": "code",
   "execution_count": null,
   "metadata": {
    "collapsed": false
   },
   "outputs": [],
   "source": [
    "max(TrendingMovies$NumberOfRatings)"
   ]
  },
  {
   "cell_type": "markdown",
   "metadata": {},
   "source": [
    "## Averaged Ratings of Trending Movies"
   ]
  },
  {
   "cell_type": "code",
   "execution_count": null,
   "metadata": {
    "collapsed": false
   },
   "outputs": [],
   "source": [
    "RatingsOfTrendingMovies = merge( Ratings, TrendingMovies, by=\"MovieID\" )  # join of tables\n",
    "head(RatingsOfTrendingMovies)"
   ]
  },
  {
   "cell_type": "code",
   "execution_count": null,
   "metadata": {
    "collapsed": false
   },
   "outputs": [],
   "source": [
    "AveragedRatingsOfTrendingMovies = aggregate( Rating ~ MovieID, mean, data=RatingsOfTrendingMovies )\n",
    "head(AveragedRatingsOfTrendingMovies)\n",
    "\n",
    "hist(AveragedRatingsOfTrendingMovies$Rating, breaks=25,\n",
    "     col=\"orange\", main=\"avg trending MovieTweeting ratings\")"
   ]
  },
  {
   "cell_type": "code",
   "execution_count": null,
   "metadata": {
    "collapsed": false
   },
   "outputs": [],
   "source": [
    "maxAveragedRating = max(AveragedRatingsOfTrendingMovies$Rating)\n",
    "maxAveragedRating"
   ]
  },
  {
   "cell_type": "code",
   "execution_count": null,
   "metadata": {
    "collapsed": false
   },
   "outputs": [],
   "source": [
    "HotTrendingMovies = subset(AveragedRatingsOfTrendingMovies, Rating == maxAveragedRating)\n",
    "HotTrendingMovies"
   ]
  },
  {
   "cell_type": "markdown",
   "metadata": {},
   "source": [
    "# Download the corresponding MovieTweetings movie Name &amp; Genre information"
   ]
  },
  {
   "cell_type": "code",
   "execution_count": null,
   "metadata": {
    "collapsed": false
   },
   "outputs": [],
   "source": [
    "URL = \"https://raw.githubusercontent.com/sidooms/MovieTweetings/master/latest/movies.dat\"\n",
    "MovieText = readLines( remote.file(URL) )\n",
    "Movies = matrix( sapply( MovieText,\n",
    "                function(x) unlist(strsplit(sub(\" [(]([0-9]+)[)]\", \"::\\\\1\",x),\"::\"))[1:4] ),\n",
    "                nrow=length(MovieText), ncol=4, byrow=TRUE )\n",
    "colnames(Movies) = c(\"MovieID\", \"MovieTitle\", \"Year\", \"Genres\")\n",
    "\n",
    "head(Movies)"
   ]
  },
  {
   "cell_type": "markdown",
   "metadata": {},
   "source": [
    "## joining the Ratings and Trending Movie information"
   ]
  },
  {
   "cell_type": "code",
   "execution_count": null,
   "metadata": {
    "collapsed": false
   },
   "outputs": [],
   "source": [
    "Ratings_and_Movies = merge( RatingsOfTrendingMovies, Movies, by=\"MovieID\" )\n",
    "\n",
    "head(Ratings_and_Movies)"
   ]
  },
  {
   "cell_type": "markdown",
   "metadata": {},
   "source": [
    "# Problem 2:  Compare Average vs. Median Rating values for Trending Movies"
   ]
  },
  {
   "cell_type": "markdown",
   "metadata": {
    "collapsed": true
   },
   "source": [
    "<p style=\"color:blue;\">\n",
    "After computing Average and Median Rating values for each Trending Movie in the MovieTweetings data:\n",
    "<ul style=\"color:blue;\"><li>\n",
    "<b>Question 4:</b> find the <b>name of the movie with the highest Average Rating</b> (and also list its Median Rating and Average Rating).\n",
    "If there is more than one such movie, select any one.\n",
    "<br/><br/>\n",
    "</li><li>\n",
    "<b>Question 5:</b> find the <b>name of the movie with the largest difference |Median Rating - Average Rating|</b> (and also list its Median Rating and Average Rating).\n",
    "If there is more than one such movie, select any one.\n",
    "</li></ul>\n",
    "</p>\n",
    "<p style=\"color:blue;\">For describing a skewed distribution, the median can be more informative than the mean.\n",
    "</p>"
   ]
  },
  {
   "cell_type": "code",
   "execution_count": null,
   "metadata": {
    "collapsed": false
   },
   "outputs": [],
   "source": [
    "# Hint:\n",
    "\n",
    "# ? aggregate\n",
    "\n",
    "# ? by"
   ]
  },
  {
   "cell_type": "markdown",
   "metadata": {},
   "source": [
    "# Part 2.  Historical Movie Ratings -- from IMDb\n",
    "\n",
    "In this part we analyze an historical dataset of movies with ratings from IMDb."
   ]
  },
  {
   "cell_type": "code",
   "execution_count": null,
   "metadata": {
    "collapsed": false
   },
   "outputs": [],
   "source": [
    "#  source is at: https://github.com/hadley/ggplot2movies\n",
    "\n",
    "if (not.installed(\"ggplot2movies\")) install.packages(\"ggplot2movies\")\n",
    "\n",
    "library(ggplot2movies)\n",
    "\n",
    "data(movies)\n",
    "\n",
    "dim(movies)  # also not a tiny dataset"
   ]
  },
  {
   "cell_type": "code",
   "execution_count": null,
   "metadata": {
    "collapsed": false
   },
   "outputs": [],
   "source": [
    "summary(movies)\n",
    "\n",
    "?movies"
   ]
  },
  {
   "cell_type": "code",
   "execution_count": null,
   "metadata": {
    "collapsed": false
   },
   "outputs": [],
   "source": [
    "colnames(movies)"
   ]
  },
  {
   "cell_type": "code",
   "execution_count": null,
   "metadata": {
    "collapsed": false
   },
   "outputs": [],
   "source": [
    "head(movies)"
   ]
  },
  {
   "cell_type": "code",
   "execution_count": null,
   "metadata": {
    "collapsed": false
   },
   "outputs": [],
   "source": [
    "hist( movies$rating, col=\"lawngreen\", main=\"IMDb ratings\", breaks=50 )\n",
    "\n",
    "mtext( sprintf(\"histogram of %d movie average rating values\", nrow(movies)) )"
   ]
  },
  {
   "cell_type": "markdown",
   "metadata": {},
   "source": [
    "# Problem 2: Find a distribution that fits the histogram of IMDb Ratings"
   ]
  },
  {
   "cell_type": "markdown",
   "metadata": {
    "collapsed": true
   },
   "source": [
    "<p style=\"color:blue;\">\n",
    "<ul><li>\n",
    "<b>Question 6:</b> <b>Give the name of a specific distribution (pdf), with maximum likelihood parameter values, that resembles the IMDb Rating values (as closely as you can).</b>\n",
    "<br/><br/>\n",
    "Again, to permit distributions like the Beta distribution to be considered,\n",
    "you can scale the rating values.\n",
    "For example, dividing the values by 10 puts them in the interval [0,1],\n",
    "as the Beta distribution requires.\n",
    "<br/><br/>\n",
    "</li><li>\n",
    "<b>Question 7:</b> determine the <a href=\"https://en.wikipedia.org/wiki/Kurtosis\"><b>skewness</b></a> of the IMDb ratings.\n",
    "<br/><br/>\n",
    "</li><li>\n",
    "<b>Question 8:</b> determine the (excess) <a href=\"https://en.wikipedia.org/wiki/Kurtosis\"><b>kurtosis</b></a> of the IMDb ratings.\n",
    "</li></ul>\n",
    "<br/><br/>\n",
    "</p>"
   ]
  },
  {
   "cell_type": "markdown",
   "metadata": {
    "collapsed": true
   },
   "source": [
    "## Possibilities:  the Extreme Value Distribution, or related distributions\n",
    "\n",
    "<p style=\"color:blue;\">\n",
    "The <a href=\"http://wikipedia.org/en/Generalized_extreme_value_distribution\">(Smallest) Extreme Value Distribution</a>\n",
    "models the minimum of a set of values drawn from a single distribution.\n",
    "It is sometimes used for modeling sets of identical independent processes\n",
    "that can <i>fail</i> -- and the time of the first failure is the failure time of the entire set.\n",
    "<br/><br/>\n",
    "In other words, the distribution models the failure time of the <i>weakest link</i>.\n",
    "<br/><br/>\n",
    "The Extreme Value Distribution\n",
    "is related to the <a href=\"http://wikipedia.org/en/Weibull_distribution\">Weibull Distribution</a>.\n",
    "</p>"
   ]
  },
  {
   "cell_type": "markdown",
   "metadata": {
    "collapsed": true
   },
   "source": [
    "## Possibility:  the Beta Distribution\n",
    "\n",
    "<p style=\"color:blue;\">\n",
    "The <a href=\"http://wikipedia.org/en/Beta_distribution\">Beta distribution</a>\n",
    "is a general model for random values of percentages and proportions.\n",
    "It is used very heavily in Bayesian methods.\n",
    "<br/><br/>\n",
    "The distribution Beta($\\alpha$,$\\beta$) leans to the right (like the data) when $\\alpha > \\beta$.\n",
    "<br/><br/>\n",
    "Note: As mentioned above, movie rating values are in the interval [0,10] ...\n",
    "The Beta distribution requires all values to be nonnegative, and in the interval [0,1].\n",
    "Thus the ratings would need to be rescaled here.\n",
    "<br/><br/>\n",
    "<b>Warning:</b>  the <tt>fitdistr()</tt> function appears to be fragile when fitting a beta distribution.\n",
    "If you consider the Beta distribution, obtaining MLE parameter values may require a different method.\n",
    "</p>"
   ]
  },
  {
   "cell_type": "markdown",
   "metadata": {},
   "source": [
    "## Not a Possibility:  the Negative Gamma Distribution\n",
    "\n",
    "<p style=\"color:blue;\">\n",
    "The <b>Negative Gamma distribution</b>\n",
    "is a \"mirror image\" of the  <a href=\"http://wikipedia.org/en/Gamma_distribution\">Gamma Distribution</a>,\n",
    "defined for $x < 0$ instead of $x > 0$.\n",
    "In other words, the value of the Negative Gamma distribution at $-x$\n",
    "is defined to be the value of the Gamma distribution at $+x$.\n",
    "Do not consider it in this assignment.\n",
    "</p>"
   ]
  },
  {
   "cell_type": "markdown",
   "metadata": {},
   "source": [
    "# Problem 3: Answer two Multiple-Answer questions about the Gamma distribution"
   ]
  },
  {
   "cell_type": "markdown",
   "metadata": {},
   "source": [
    "<ul><li><b>Question 9:</b> Give the number of the following expressions that\n",
    "is a formula for the <b>skewness of the Gamma distribution</b>\n",
    "with parameters $\\alpha > 0$, $\\beta > 0$:\n",
    "<br/><br/>\n",
    "(<b>1</b>) $\\alpha/\\beta$ <br/>\n",
    "(<b>2</b>) $\\alpha - \\beta$ <br/>\n",
    "(<b>3</b>) $\\sqrt{\\alpha/\\beta}$ <br/>\n",
    "(<b>4</b>) $\\sqrt{\\alpha\\beta}/2$ <br/>\n",
    "(<b>5</b>) $2/\\sqrt{\\alpha}$ <br/>\n",
    "(<b>6</b>) $6/\\alpha$ <br/>\n",
    "(<b>7</b>) $\\log(\\alpha)/\\beta$ <br/>\n",
    "(<b>8</b>) None of the above <br/><br/>\n",
    "</li><li><b>Question 10:</b> <b>True or False:</b>\n",
    "the Gamma distribution is not negatively skewed, for any parameter values\n",
    "$\\alpha > 0$,\n",
    "$\\beta > 0$.\n",
    "<br/><br/>\n",
    "</li></ul>\n",
    "(Again, for this assignment please consider only the usual  <a href=\"http://wikipedia.org/en/Gamma_distribution\">Gamma Distribution</a>,\n",
    "defined for $x>0$.)\n",
    "<br/><br/>\n",
    "Hint:  the skewness measure is the result of an integral for $E[((x-\\mu)/\\sigma)^3]$,\n",
    "so both of these questions could be answered with a symbolic algebra system,\n",
    "like <a href=\"http://sympy.org\">SymPy</a> or\n",
    "<a href=\"http://wolframalpha.com\">Wolfram Alpha</a>.\n",
    "Some online resources also might give a formula for skewness."
   ]
  },
  {
   "cell_type": "markdown",
   "metadata": {},
   "source": [
    "# Finally:  Produce a CSV file \"HW2_output.csv\" including your answers"
   ]
  },
  {
   "cell_type": "markdown",
   "metadata": {},
   "source": [
    "## Your output CSV file \"HW2_output.csv\" should look like this:\n",
    "\n",
    "<p style=\"color:blue;\">\n",
    "If your program had been given the Table above as input,\n",
    "it should print the following CSV file, a table with 10 rows, and three columns:\n",
    "</p>\n",
    "<pre>\n",
    "lognormal,5.55555,1.11111\n",
    "skewness,2.22222,\n",
    "kurtosis,3.33333,\n",
    "Batman: The Dark Knight,7.77777,8.88888\n",
    "Batman v Superman: Dawn of Justice,1.22222,9.88888\n",
    "lognormal,5.22222,1.44444\n",
    "skewness,2.55555,\n",
    "kurtosis,3.44444,\n",
    "1,,\n",
    "False,,\n",
    "</pre>\n",
    "<p style=\"color:blue;\">\n",
    "<i>There should be NO header line in this file.</i>\n",
    "<br/><br/>\n",
    "There should be 10 rows, one for each question.  Each row should have three fields.\n",
    "<br/><br/>\n",
    "You can enter any text description of a distribution, such as <tt>lognormal</tt>\n",
    "or <tt>beta</tt> or <tt>Beta</tt> or whatever.\n",
    "<br/>\n",
    "However: the <tt>lognormal</tt> distribution is just provided as an example;\n",
    "it is not a good description of Rating distributions.\n",
    "Also: do not use the <tt>gamma</tt> distribution.\n",
    "</p>"
   ]
  },
  {
   "cell_type": "markdown",
   "metadata": {
    "collapsed": true
   },
   "source": [
    "# Submit your output CSV file and your notebook on CCLE.\n",
    "<p style=\"color:blue;\">\n",
    "Upload your .csv file for this assignment,\n",
    "and also upload your .ipynb file (to show your work).  Both files are required.\n",
    "</p>"
   ]
  },
  {
   "cell_type": "markdown",
   "metadata": {
    "collapsed": true
   },
   "source": [
    "# Solution : The Distribution of Movie Ratings"
   ]
  },
  {
   "cell_type": "markdown",
   "metadata": {},
   "source": [
    "## Extract Movie Ratings from Github"
   ]
  },
  {
   "cell_type": "code",
   "execution_count": 1,
   "metadata": {
    "collapsed": false
   },
   "outputs": [],
   "source": [
    "# bypass a problem with R reading of https connections\n",
    "remote.file = function(URL) {\n",
    "  temporaryFile <- tempfile()\n",
    "  download.file(URL,destfile=temporaryFile, method=\"curl\")\n",
    "  return( temporaryFile )\n",
    "}\n",
    "\n",
    "URL = \"https://raw.githubusercontent.com/sidooms/MovieTweetings/master/latest/ratings.dat\"\n",
    "\n",
    "Ratings = read.table( remote.file(URL), sep = \":\", header=FALSE )[,c(1,3,5,7)]\n",
    "colnames(Ratings) = c(\"UserID\", \"MovieID\", \"Rating\", \"TwitterID\")\n",
    "output_file = \"HW2_output.csv\"\n",
    "\n",
    "# Delete output csv if it exists\n",
    "if (file.exists(output_file)) {\n",
    "  file.remove(output_file)\n",
    "}\n"
   ]
  },
  {
   "cell_type": "markdown",
   "metadata": {},
   "source": [
    "## P1.1 : Distribution that fits MovieTweetings Rating value"
   ]
  },
  {
   "cell_type": "markdown",
   "metadata": {},
   "source": [
    "### Fit data with different distributions"
   ]
  },
  {
   "cell_type": "code",
   "execution_count": null,
   "metadata": {
    "collapsed": false,
    "scrolled": true
   },
   "outputs": [],
   "source": [
    "not.installed <- function(pkg) !is.element(pkg, installed.packages()[,1])\n",
    "if (not.installed(\"MASS\"))  install.packages(\"MASS\")  # we need the MASS package\n",
    "library(MASS)  #  load the MASS package\n",
    "\n",
    "Distribution = c(\"logistic\", \"geometric\", \"cauchy\", \"beta\", \"chi-squared\",\"normal\", \"t\", \"lognormal\", \"exponential\", \"weibull\" )\n",
    "maximum_likelihood = -Inf\n",
    "\n",
    "for (i in 1:length(Distribution)) {\n",
    "  dist_name = Distribution[i]\n",
    "  Dataset = Ratings$Rating+1\n",
    "  \n",
    "    n = length(Ratings$Rating)  \n",
    "    UnroundedRatings = Ratings$Rating + runif(n)\n",
    "    RescaledRatings = UnroundedRatings / 11.0\n",
    "    \n",
    "  if(dist_name == \"beta\"){\n",
    "    fit = suppressWarnings( fitdistr ( RescaledRatings, dist_name , start=list(shape1=0.1,shape2=0.1)))\n",
    "  }\n",
    "  else if (dist_name == \"chi-squared\") {\n",
    "    fit = suppressWarnings( fitdistr( RescaledRatings, dist_name, list(df=round((mean(Dataset)))) , method=\"BFGS\" ) )\n",
    "  }\n",
    "  else {\n",
    "    fit = suppressWarnings( fitdistr( RescaledRatings, dist_name ) )\n",
    "  } \n",
    " \n",
    "  fitted_parameters = fit$estimate\n",
    "  log_likelihood = fit$loglik\n",
    "  \n",
    "  parameter_value_string = paste((fitted_parameters), collapse=\",\")\n",
    "  cat(sprintf(\"%s %s\\n\", dist_name, parameter_value_string))  \n",
    "  cat(sprintf(\"               log-likelihood = %f\\n\\n\", log_likelihood))\n",
    "  \n",
    "  if (log_likelihood > maximum_likelihood) {\n",
    "    maximum_likelihood = log_likelihood\n",
    "    dataset_distribution = dist_name\n",
    "    dataset_parameters = parameter_value_string\n",
    "  }\n",
    " }\n",
    "cat(\"Distribution of Dataset : \\n\")\n",
    "cat(sprintf(\"%s %s\\n\", dataset_distribution, dataset_parameters))\n"
   ]
  },
  {
   "cell_type": "markdown",
   "metadata": {},
   "source": [
    "### Plot histogram against distribution"
   ]
  },
  {
   "cell_type": "code",
   "execution_count": 3,
   "metadata": {
    "collapsed": false
   },
   "outputs": [
    {
     "data": {
      "image/png": "[encoded data removed]",
      "text/plain": [
       "Plot with title “Histogram of RescaledRatings”"
      ]
     },
     "metadata": {
      "image/svg+xml": {
       "isolated": true
      }
     },
     "output_type": "display_data"
    }
   ],
   "source": [
    "n = length(Ratings$Rating)  \n",
    "UnroundedRatings = Ratings$Rating + runif(n)\n",
    "RescaledRatings = UnroundedRatings / 11.0\n",
    "\n",
    "hist( RescaledRatings, probability=TRUE, col=\"palegreen\")\n",
    "\n",
    "theta = suppressWarnings(fitdistr( RescaledRatings, dataset_distribution, start=list(shape1=0.1,shape2=0.5)))\n",
    "\n",
    "curve( dbeta(x, theta$estimate[1], theta$estimate[2]),\n",
    "      col=\"red\", add=TRUE )  \n",
    "\n",
    "mtext( sprintf(\"MLE parameters:  %5.2f, %5.2f\",\n",
    "               theta$estimate[1], theta$estimate[2]), side=1, col=\"blue\")"
   ]
  },
  {
   "cell_type": "markdown",
   "metadata": {},
   "source": [
    "## P1.2 :  Skewness MovieTweeted Ratings"
   ]
  },
  {
   "cell_type": "code",
   "execution_count": 3,
   "metadata": {
    "collapsed": false
   },
   "outputs": [
    {
     "name": "stdout",
     "output_type": "stream",
     "text": [
      "Skewnewss of Movie Ratings : -0.834340023433116\n"
     ]
    }
   ],
   "source": [
    "not.installed <- function(pkg) !is.element(pkg, installed.packages()[,1])\n",
    "if (not.installed(\"moments\"))  install.packages(\"moments\", repos = \"http://cran.us.r-project.org\")  # we need the moments package\n",
    "library(moments)  #  load the moments package\n",
    "\n",
    "skewness_Ratings = skewness(Ratings$Rating)\n",
    "cat(sprintf(\"Skewnewss of Movie Ratings : %s\\n\", skewness_Ratings))"
   ]
  },
  {
   "cell_type": "markdown",
   "metadata": {},
   "source": [
    "## P1.3 :  Kurtosis MovieTweeted Ratings"
   ]
  },
  {
   "cell_type": "code",
   "execution_count": 4,
   "metadata": {
    "collapsed": false
   },
   "outputs": [
    {
     "name": "stdout",
     "output_type": "stream",
     "text": [
      "Excess Kurtosis of Movie Ratings : 0.974900057110866\n"
     ]
    }
   ],
   "source": [
    "kurtosis_Ratings = kurtosis(Ratings$Rating) - 3\n",
    "cat(sprintf(\"Excess Kurtosis of Movie Ratings : %s\\n\", kurtosis_Ratings))"
   ]
  },
  {
   "cell_type": "markdown",
   "metadata": {},
   "source": [
    "## P2.1 : Highest Average Rating Movie"
   ]
  },
  {
   "cell_type": "markdown",
   "metadata": {},
   "source": [
    "### Join Tables to get Average and Median Ratings"
   ]
  },
  {
   "cell_type": "code",
   "execution_count": 5,
   "metadata": {
    "collapsed": false
   },
   "outputs": [],
   "source": [
    "NumberOfRatings = data.frame(aggregate( Rating ~ MovieID, length, data=Ratings ))\n",
    "colnames(NumberOfRatings) = c(\"MovieID\", \"NumberOfRatings\")\n",
    "\n",
    "TrendingMovies = subset( NumberOfRatings, NumberOfRatings > 50 )\n",
    "\n",
    "RatingsOfTrendingMovies = merge( Ratings, TrendingMovies, by=\"MovieID\" )  # join of tables\n",
    "AveragedRatingsOfTrendingMovies = aggregate( Rating ~ MovieID, mean, data=RatingsOfTrendingMovies )\n",
    "MedianRatingsOfTrendingMovies = aggregate( Rating ~ MovieID, median, data=RatingsOfTrendingMovies )\n",
    "maxAveragedRating = max(AveragedRatingsOfTrendingMovies$Rating)\n",
    "HotTrendingMovies = subset(AveragedRatingsOfTrendingMovies, Rating == maxAveragedRating)\n",
    "\n",
    "URL = \"https://raw.githubusercontent.com/sidooms/MovieTweetings/master/latest/movies.dat\"\n",
    "MovieText = readLines( remote.file(URL) )\n",
    "Movies = matrix(sapply( MovieText,\n",
    "                function(x) unlist(strsplit(sub(\" [(]([0-9]+)[)]\", \"::\\\\1\",x),\"::\"))[1:4] ),\n",
    "                nrow=length(MovieText), ncol=4, byrow=TRUE )\n",
    "colnames(Movies) = c(\"MovieID\", \"MovieTitle\", \"Year\", \"Genres\")"
   ]
  },
  {
   "cell_type": "markdown",
   "metadata": {},
   "source": [
    "### Get Movie Title based on Movie ID of Highest Average Rating"
   ]
  },
  {
   "cell_type": "code",
   "execution_count": 6,
   "metadata": {
    "collapsed": true
   },
   "outputs": [],
   "source": [
    "get_movie_information = function(movie_id){\n",
    "    highest_movie_id = paste(rep(\"0\",\n",
    "    (nchar(max(Ratings$MovieID)) - nchar(movie_id))), toString(movie_id), sep=\"\")\n",
    "    average_rating = subset(AveragedRatingsOfTrendingMovies, MovieID == movie_id)$Rating \n",
    "    movie_name = strsplit(Movies[which(Movies[, \"MovieID\"] == highest_movie_id), \"MovieTitle\"], \"MovieTitle: \")\n",
    "    median_rating = subset(MedianRatingsOfTrendingMovies, MovieID == movie_id)$Rating    \n",
    "\n",
    "    return (c(movie_name, average_rating, median_rating))\n",
    "}"
   ]
  },
  {
   "cell_type": "code",
   "execution_count": 7,
   "metadata": {
    "collapsed": false
   },
   "outputs": [
    {
     "name": "stdout",
     "output_type": "stream",
     "text": [
      "Highest Average Movie Rating\n",
      "Name : The Shawshank Redemption\t Average Rating : 9.43649635036496\tMedian Rating : 10"
     ]
    }
   ],
   "source": [
    "movie_id = HotTrendingMovies$MovieID[1]\n",
    "\n",
    "movie_details = get_movie_information(movie_id)\n",
    "cat(sprintf(\"Highest Average Movie Rating\\nName : %s\\t Average Rating : %s\\tMedian Rating : %s\", movie_details[1], \n",
    "           movie_details[2], movie_details[3]))"
   ]
  },
  {
   "cell_type": "markdown",
   "metadata": {},
   "source": [
    "## P2.2 : Largest Difference |Median - Average| Rating Movie "
   ]
  },
  {
   "cell_type": "code",
   "execution_count": 8,
   "metadata": {
    "collapsed": false
   },
   "outputs": [
    {
     "name": "stdout",
     "output_type": "stream",
     "text": [
      "Largest Difference |Median - Average| Movie Rating\n",
      "Name : This Is Us\t Average Rating : 6.56637168141593\tMedian Rating : 9"
     ]
    }
   ],
   "source": [
    "difference_median_average = data.frame( AveragedRatingsOfTrendingMovies$MovieID, \n",
    "                                       abs(AveragedRatingsOfTrendingMovies$Rating - MedianRatingsOfTrendingMovies$Rating))\n",
    "colnames(difference_median_average) = c(\"MovieID\", \"DifferenceRating\")\n",
    "\n",
    "maxDifferenceRating = max(difference_median_average$DifferenceRating)\n",
    "largest_difference_movie = subset(difference_median_average, DifferenceRating == maxDifferenceRating)$MovieID[1]\n",
    "\n",
    "diff_movie_details = get_movie_information(largest_difference_movie)\n",
    "cat(sprintf(\"Largest Difference |Median - Average| Movie Rating\\nName : %s\\t Average Rating : %s\\tMedian Rating : %s\", diff_movie_details[1], \n",
    "           diff_movie_details[2], diff_movie_details[3]))"
   ]
  },
  {
   "cell_type": "markdown",
   "metadata": {},
   "source": [
    "## P3.1 : IMDb Ratings Distribution "
   ]
  },
  {
   "cell_type": "code",
   "execution_count": 9,
   "metadata": {
    "collapsed": false
   },
   "outputs": [
    {
     "name": "stdout",
     "output_type": "stream",
     "text": [
      "logistic 7.00081225122267,0.878677585083951\n",
      "               log-likelihood = -109522.501503\n",
      "\n",
      "geometric 0.126058096340052\n",
      "               log-likelihood = -Inf\n",
      "\n",
      "cauchy 7.12192864104402,0.904767692628137\n",
      "               log-likelihood = -118614.996183\n",
      "\n",
      "beta 6.19935958962765,4.42030710989774\n",
      "               log-likelihood = 30898.722752\n",
      "\n",
      "chi-squared 7.70684471201785\n",
      "               log-likelihood = -135645.770545\n",
      "\n",
      "normal 6.93285024154589,1.55301759135818\n",
      "               log-likelihood = -109295.028532\n",
      "\n",
      "t 6.94959224899396,1.50864576887173,35.0648751160295\n",
      "               log-likelihood = -109273.037631\n",
      "\n",
      "lognormal 1.90675409966441,0.25576442125943\n",
      "               log-likelihood = -115353.469410\n",
      "\n",
      "exponential 0.14424081945509\n",
      "               log-likelihood = -172617.500660\n",
      "\n",
      "gamma 17.1051140657441,2.46725731384161\n",
      "               log-likelihood = -112624.018853\n",
      "\n",
      "weibull 5.19357228568245,7.53467352066348\n",
      "               log-likelihood = -108461.143106\n",
      "\n",
      "Distribution of Dataset : \n",
      "beta 6.19935958962765,4.42030710989774\n"
     ]
    }
   ],
   "source": [
    "not.installed <- function(pkg) !is.element(pkg, installed.packages()[,1])\n",
    "if (not.installed(\"ggplot2movies\"))  install.packages(\"ggplot2movies\", repos = \"http://cran.us.r-project.org\")  # we need the ggplot2movies package\n",
    "library(ggplot2movies) #  load the ggplot2movies package\n",
    "\n",
    "not.installed <- function(pkg) !is.element(pkg, installed.packages()[,1])\n",
    "if (not.installed(\"MASS\"))  install.packages(\"MASS\")  # we need the MASS package\n",
    "library(MASS)  #  load the MASS package\n",
    "\n",
    "Distribution = c(\"logistic\", \"geometric\", \"cauchy\", \"beta\", \"chi-squared\",\"normal\", \"t\", \"lognormal\", \"exponential\", \"weibull\" )\n",
    "maximum_likelihood = -Inf\n",
    "\n",
    "for (i in 1:length(Distribution)) {\n",
    "  dist_name = Distribution[i]\n",
    "  Dataset = movies$rating+1\n",
    "  \n",
    "  if(dist_name == \"beta\"){\n",
    "    # to enable execution of fitdistr(beta) on dataset   \n",
    "    n = length(movies$rating)  \n",
    "    UnroundedRatings = movies$rating + runif(n)\n",
    "    RescaledRatings = UnroundedRatings / 11.0\n",
    "    fit = suppressWarnings( fitdistr ( RescaledRatings, dist_name , start=list(shape1=0.1,shape2=0.5)))\n",
    "  }\n",
    "  else if (dist_name == \"chi-squared\") {\n",
    "    fit = suppressWarnings( fitdistr( Dataset, dist_name, list(df=round((mean(Dataset)))) , method=\"BFGS\" ) )\n",
    "  }\n",
    "  else {\n",
    "    fit = suppressWarnings( fitdistr( Dataset, dist_name ) )\n",
    "  } \n",
    " \n",
    "  fitted_parameters = fit$estimate\n",
    "  log_likelihood = fit$loglik\n",
    "  \n",
    "  parameter_value_string = paste((fitted_parameters), collapse=\",\")\n",
    "  cat(sprintf(\"%s %s\\n\", dist_name, parameter_value_string))  \n",
    "  cat(sprintf(\"               log-likelihood = %f\\n\\n\", log_likelihood))\n",
    "  \n",
    "  if (log_likelihood > maximum_likelihood) {\n",
    "    maximum_likelihood = log_likelihood\n",
    "    imdb_dataset_distribution = dist_name\n",
    "    imdb_dataset_parameters = parameter_value_string\n",
    "  }\n",
    " }\n",
    "cat(\"Distribution of Dataset : \\n\")\n",
    "cat(sprintf(\"%s %s\\n\", imdb_dataset_distribution, imdb_dataset_parameters))\n"
   ]
  },
  {
   "cell_type": "markdown",
   "metadata": {},
   "source": [
    "### Plot histogram against distribution"
   ]
  },
  {
   "cell_type": "code",
   "execution_count": 25,
   "metadata": {
    "collapsed": false
   },
   "outputs": [
    {
     "data": {
      "image/png": "[encoded data removed]",
      "text/plain": [
       "Plot with title “Histogram of RescaledRatings”"
      ]
     },
     "metadata": {
      "image/svg+xml": {
       "isolated": true
      }
     },
     "output_type": "display_data"
    }
   ],
   "source": [
    "n = length(movies$rating)  \n",
    "UnroundedRatings = movies$rating + runif(n)\n",
    "RescaledRatings = UnroundedRatings / 11.0\n",
    "\n",
    "hist( RescaledRatings, probability=TRUE, col=\"palegreen\")\n",
    "\n",
    "theta = suppressWarnings(fitdistr( RescaledRatings, dataset_distribution, start=list(shape1=0.1,shape2=0.5)))\n",
    "\n",
    "curve( dbeta(x, theta$estimate[1], theta$estimate[2]),\n",
    "      col=\"red\", add=TRUE )  \n",
    "\n",
    "mtext( sprintf(\"MLE parameters:  %5.2f, %5.2f\",\n",
    "               theta$estimate[1], theta$estimate[2]), side=1, col=\"blue\")"
   ]
  },
  {
   "cell_type": "markdown",
   "metadata": {},
   "source": [
    "## P3.2 : Skewness IMDb Ratings "
   ]
  },
  {
   "cell_type": "code",
   "execution_count": 10,
   "metadata": {
    "collapsed": false
   },
   "outputs": [
    {
     "name": "stdout",
     "output_type": "stream",
     "text": [
      "Skewnewss of IMDb Ratings : -0.405706789944686\n"
     ]
    }
   ],
   "source": [
    "not.installed <- function(pkg) !is.element(pkg, installed.packages()[,1])\n",
    "if (not.installed(\"moments\"))  install.packages(\"moments\", repos = \"http://cran.us.r-project.org\")  # we need the moments package\n",
    "library(moments)  #  load the moments package\n",
    "\n",
    "skewness_IMDb_Ratings = skewness(movies$rating)\n",
    "cat(sprintf(\"Skewnewss of IMDb Ratings : %s\\n\", skewness_IMDb_Ratings))"
   ]
  },
  {
   "cell_type": "markdown",
   "metadata": {},
   "source": [
    "## P3.3 : Kurtosis IMDb Ratings"
   ]
  },
  {
   "cell_type": "code",
   "execution_count": 11,
   "metadata": {
    "collapsed": false
   },
   "outputs": [
    {
     "name": "stdout",
     "output_type": "stream",
     "text": [
      "Excess Kurtosis of IMDb Ratings : 0.115772886655793\n"
     ]
    }
   ],
   "source": [
    "kurtosis_IMDb_Ratings = kurtosis(movies$rating) - 3\n",
    "cat(sprintf(\"Excess Kurtosis of IMDb Ratings : %s\\n\", kurtosis_IMDb_Ratings))"
   ]
  },
  {
   "cell_type": "markdown",
   "metadata": {},
   "source": [
    "## P4 : Multiple Answer Questions "
   ]
  },
  {
   "cell_type": "code",
   "execution_count": 12,
   "metadata": {
    "collapsed": true
   },
   "outputs": [],
   "source": [
    "skewness_gamma = 5\n",
    "gamma_not_negatively_skewness = \"True\""
   ]
  },
  {
   "cell_type": "markdown",
   "metadata": {},
   "source": [
    "## Output Answers to CSV"
   ]
  },
  {
   "cell_type": "code",
   "execution_count": 20,
   "metadata": {
    "collapsed": false
   },
   "outputs": [
    {
     "data": {
      "text/html": [
       "TRUE"
      ],
      "text/latex": [
       "TRUE"
      ],
      "text/markdown": [
       "TRUE"
      ],
      "text/plain": [
       "[1] TRUE"
      ]
     },
     "execution_count": 20,
     "metadata": {},
     "output_type": "execute_result"
    },
    {
     "name": "stdout",
     "output_type": "stream",
     "text": [
      "beta,3.84323319679984,1.57428761619103\n",
      "skewness,-0.834340023433116,\n",
      "kurtosis,0.974900057110866,\n",
      "The Shawshank Redemption,9.43649635036496,10\n",
      "This Is Us,6.56637168141593,9\n",
      "beta,6.19935958962765,4.42030710989774\n",
      "skewness,-0.405706789944686,\n",
      "kurtosis,0.115772886655793,\n",
      "5,,\n",
      "True,,\n"
     ]
    }
   ],
   "source": [
    "# Delete output csv if it exists\n",
    "if (file.exists(output_file)) {\n",
    "  file.remove(output_file)\n",
    "}\n",
    "\n",
    "p1 = paste(dataset_distribution, dataset_parameters, sep=\",\")\n",
    "p2 = paste(\"skewness\",skewness_Ratings,\"\",sep=\",\")\n",
    "p3 = paste(\"kurtosis\",kurtosis_Ratings,\"\",sep=\",\")\n",
    "p4 = paste(movie_details[1], movie_details[3], movie_details[2], sep=\",\")\n",
    "p5 = paste(diff_movie_details[1], diff_movie_details[3], diff_movie_details[2], sep=\",\")\n",
    "p6 = paste(imdb_dataset_distribution, imdb_dataset_parameters, sep=\",\")\n",
    "p7 = paste(\"skewness\",skewness_IMDb_Ratings,\"\",sep=\",\")\n",
    "p8 = paste(\"kurtosis\",kurtosis_IMDb_Ratings,\"\",sep=\",\")\n",
    "p9 = paste(skewness_gamma,\"\",\"\", sep=\",\")\n",
    "p10 = paste(gamma_not_negatively_skewness,\"\",\"\", sep=\",\")\n",
    "\n",
    "output_data = paste(p1, p2, p3, p4, p5, p6, p7, p8,  p9, p10, collapse = \"\\n\", sep = \"\\n\")\n",
    "cat(output_data, file = output_file, sep = \"\\n\", append = TRUE)\n",
    "cat(output_data, sep = \"\\n\")"
   ]
  },
  {
   "cell_type": "code",
   "execution_count": null,
   "metadata": {
    "collapsed": true
   },
   "outputs": [],
   "source": []
  }
 ],
 "metadata": {
  "kernelspec": {
   "display_name": "R",
   "language": "R",
   "name": "ir"
  },
  "language_info": {
   "codemirror_mode": "r",
   "file_extension": ".r",
   "mimetype": "text/x-r-source",
   "name": "R",
   "pygments_lexer": "r",
   "version": "3.2.2"
  }
 },
 "nbformat": 4,
 "nbformat_minor": 0
}
